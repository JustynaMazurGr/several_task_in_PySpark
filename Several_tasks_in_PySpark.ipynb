{
  "cells": [
    {
      "cell_type": "code",
      "execution_count": 1,
      "metadata": {
        "colab": {
          "base_uri": "https://localhost:8080/"
        },
        "id": "LWWf431tPSEe",
        "outputId": "4a47df3e-0594-4186-b3f0-37912028fff5"
      },
      "outputs": [
        {
          "output_type": "stream",
          "name": "stdout",
          "text": [
            "Looking in indexes: https://pypi.org/simple, https://us-python.pkg.dev/colab-wheels/public/simple/\n",
            "Collecting pyspark\n",
            "  Downloading pyspark-3.4.0.tar.gz (310.8 MB)\n",
            "\u001b[2K     \u001b[90m━━━━━━━━━━━━━━━━━━━━━━━━━━━━━━━━━━━━━━━\u001b[0m \u001b[32m310.8/310.8 MB\u001b[0m \u001b[31m2.8 MB/s\u001b[0m eta \u001b[36m0:00:00\u001b[0m\n",
            "\u001b[?25h  Preparing metadata (setup.py) ... \u001b[?25l\u001b[?25hdone\n",
            "Requirement already satisfied: py4j==0.10.9.7 in /usr/local/lib/python3.10/dist-packages (from pyspark) (0.10.9.7)\n",
            "Building wheels for collected packages: pyspark\n",
            "  Building wheel for pyspark (setup.py) ... \u001b[?25l\u001b[?25hdone\n",
            "  Created wheel for pyspark: filename=pyspark-3.4.0-py2.py3-none-any.whl size=311317130 sha256=d2db14737752552385ca8e26abe5886b0b28784c127a08163e109aeafdb5b7e6\n",
            "  Stored in directory: /root/.cache/pip/wheels/7b/1b/4b/3363a1d04368e7ff0d408e57ff57966fcdf00583774e761327\n",
            "Successfully built pyspark\n",
            "Installing collected packages: pyspark\n",
            "Successfully installed pyspark-3.4.0\n"
          ]
        }
      ],
      "source": [
        "!pip install pyspark    #instalowanie PySpark"
      ]
    },
    {
      "cell_type": "code",
      "source": [
        "!pip install Faker  #instalowanie Faker"
      ],
      "metadata": {
        "colab": {
          "base_uri": "https://localhost:8080/"
        },
        "id": "FA95Q0imgUH5",
        "outputId": "24df9819-ed16-4b6c-9818-59b22dc4c44c"
      },
      "execution_count": 2,
      "outputs": [
        {
          "output_type": "stream",
          "name": "stdout",
          "text": [
            "Looking in indexes: https://pypi.org/simple, https://us-python.pkg.dev/colab-wheels/public/simple/\n",
            "Collecting Faker\n",
            "  Downloading Faker-18.10.1-py3-none-any.whl (1.7 MB)\n",
            "\u001b[2K     \u001b[90m━━━━━━━━━━━━━━━━━━━━━━━━━━━━━━━━━━━━━━━━\u001b[0m \u001b[32m1.7/1.7 MB\u001b[0m \u001b[31m19.4 MB/s\u001b[0m eta \u001b[36m0:00:00\u001b[0m\n",
            "\u001b[?25hRequirement already satisfied: python-dateutil>=2.4 in /usr/local/lib/python3.10/dist-packages (from Faker) (2.8.2)\n",
            "Requirement already satisfied: six>=1.5 in /usr/local/lib/python3.10/dist-packages (from python-dateutil>=2.4->Faker) (1.16.0)\n",
            "Installing collected packages: Faker\n",
            "Successfully installed Faker-18.10.1\n"
          ]
        }
      ]
    },
    {
      "cell_type": "code",
      "execution_count": 3,
      "metadata": {
        "id": "jy1qfFcKPofh"
      },
      "outputs": [],
      "source": [
        "from pyspark.sql import SparkSession\n",
        "\n",
        "spark = SparkSession.builder\\\n",
        "        .master(\"local\")\\\n",
        "        .appName(\"Colab\")\\\n",
        "        .getOrCreate()"
      ]
    },
    {
      "cell_type": "code",
      "source": [
        "from pyspark import SparkFiles\n",
        "from datetime import datetime\n",
        "from pyspark.sql.types import DateType\n",
        "from pyspark.sql import functions as sf\n",
        "from pyspark.sql.window import Window\n"
      ],
      "metadata": {
        "id": "umf2akq4fAAS"
      },
      "execution_count": 22,
      "outputs": []
    },
    {
      "cell_type": "code",
      "source": [
        "from faker import Faker\n",
        "import json\n",
        "import os\n",
        "import shutil\n",
        "import random\n"
      ],
      "metadata": {
        "id": "3yr18g3bkXYa"
      },
      "execution_count": 5,
      "outputs": []
    },
    {
      "cell_type": "markdown",
      "metadata": {
        "id": "mN_C_AAveV4e"
      },
      "source": [
        "# Zadanie\n",
        "\n",
        "Na podstawie zbiorów danych o oszustwach finansowych (fraudTrain) pobranych z https://www.kaggle.com/datasets/kartik2112/fraud-detection:\n",
        "\n",
        "* Wykonaj podstawowe statystyki opisowe (min, max, avg) dla przykładowej ramki danych dla wszystkich pól numerycznych\n",
        "* Sprawdź czy kobiety czy mężczyźni wykonują więcej transakcji i która z płci ma większą średnią wartość transakcji\n",
        "* Sprawdź średnie i liczbę transakcji w rozbiciu na kategorie\n",
        "* Sprawdź w którym mieście mieszka najwięcej kobiet\n",
        "* Sprawdź w którym stanie mieszka najmniej mężczyzn"
      ]
    },
    {
      "cell_type": "code",
      "execution_count": 7,
      "metadata": {
        "colab": {
          "base_uri": "https://localhost:8080/"
        },
        "id": "nEKgRcrPecPO",
        "outputId": "c4e3f37c-27f6-4036-a6d5-0f9e4535b6ba"
      },
      "outputs": [
        {
          "output_type": "stream",
          "name": "stdout",
          "text": [
            "+---+---------------------+-------------------+--------------------+-------------+------+-----------+---------+------+--------------------+--------------------+-----+-----+-------+------------------+--------+--------------------+----------+--------------------+----------+------------------+------------------+--------+\n",
            "|_c0|trans_date_trans_time|             cc_num|            merchant|     category|   amt|      first|     last|gender|              street|                city|state|  zip|    lat|              long|city_pop|                 job|       dob|           trans_num| unix_time|         merch_lat|        merch_long|is_fraud|\n",
            "+---+---------------------+-------------------+--------------------+-------------+------+-----------+---------+------+--------------------+--------------------+-----+-----+-------+------------------+--------+--------------------+----------+--------------------+----------+------------------+------------------+--------+\n",
            "|  0|  2019-01-01 00:00:18|   2703186189652095|fraud_Rippin, Kub...|     misc_net|  4.97|   Jennifer|    Banks|     F|      561 Perry Cove|      Moravian Falls|   NC|28654|36.0788|          -81.1781|    3495|Psychologist, cou...|1988-03-09|0b242abb623afc578...|1325376018|         36.011293|        -82.048315|       0|\n",
            "|  1|  2019-01-01 00:00:44|       630423337322|fraud_Heller, Gut...|  grocery_pos|107.23|  Stephanie|     Gill|     F|43039 Riley Green...|              Orient|   WA|99160|48.8878|         -118.2105|     149|Special education...|1978-06-21|1f76529f857473494...|1325376044|49.159046999999994|       -118.186462|       0|\n",
            "|  2|  2019-01-01 00:00:51|     38859492057661|fraud_Lind-Buckridge|entertainment|220.11|     Edward|  Sanchez|     M|594 White Dale Su...|          Malad City|   ID|83252|42.1808|          -112.262|    4154|Nature conservati...|1962-01-19|a1a22d70485983eac...|1325376051|         43.150704|       -112.154481|       0|\n",
            "|  3|  2019-01-01 00:01:16|   3534093764340240|fraud_Kutch, Herm...|gas_transport|  45.0|     Jeremy|    White|     M|9443 Cynthia Cour...|             Boulder|   MT|59632|46.2306|         -112.1138|    1939|     Patent attorney|1967-01-12|6b849c168bdad6f86...|1325376076|         47.034331|       -112.561071|       0|\n",
            "|  4|  2019-01-01 00:03:06|    375534208663984| fraud_Keeling-Crist|     misc_pos| 41.96|      Tyler|   Garcia|     M|    408 Bradley Rest|            Doe Hill|   VA|24433|38.4207|          -79.4629|      99|Dance movement ps...|1986-03-28|a41d7549acf907893...|1325376186|         38.674999|        -78.632459|       0|\n",
            "|  5|  2019-01-01 00:04:08|   4767265376804500|fraud_Stroman, Hu...|gas_transport| 94.63|   Jennifer|   Conner|     F|   4655 David Island|              Dublin|   PA|18917| 40.375|          -75.2045|    2158|   Transport planner|1961-06-19|189a841a0a8ba0305...|1325376248|         40.653382|-76.15266700000001|       0|\n",
            "|  6|  2019-01-01 00:04:42|     30074693890476|fraud_Rowe-Vander...|  grocery_net| 44.54|     Kelsey| Richards|     F|889 Sarah Station...|             Holcomb|   KS|67851|37.9931|         -100.9893|    2691|     Arboriculturist|1993-08-16|83ec1cc84142af6e2...|1325376282|37.162704999999995|        -100.15337|       0|\n",
            "|  7|  2019-01-01 00:05:08|   6011360759745864|fraud_Corwin-Collins|gas_transport| 71.65|     Steven| Williams|     M|231 Flores Pass S...|            Edinburg|   VA|22824|38.8432|          -78.6003|    6018|Designer, multimedia|1947-08-21|6d294ed2cc447d2c7...|1325376308|         38.948089|        -78.540296|       0|\n",
            "|  8|  2019-01-01 00:05:18|   4922710831011201|    fraud_Herzog Ltd|     misc_pos|  4.27|    Heather|    Chase|     F|6888 Hicks Stream...|               Manor|   PA|15665|40.3359|          -79.6607|    1472|Public affairs co...|1941-03-07|fc28024ce480f8ef2...|1325376318|         40.351813|        -79.958146|       0|\n",
            "|  9|  2019-01-01 00:06:01|   2720830304681674|fraud_Schoen, Kup...|  grocery_pos|198.39|    Melissa|  Aguilar|     F|21326 Taylor Squa...|         Clarksville|   TN|37040| 36.522|-87.34899999999999|  151785|         Pathologist|1974-03-28|3b9014ea8fb80bd65...|1325376361|         37.179198|        -87.485381|       0|\n",
            "| 10|  2019-01-01 00:06:23|      4642894980163|fraud_Rutherford-...|  grocery_pos| 24.74|      Eddie|   Mendez|     M|1831 Faith View S...|            Clarinda|   IA|51632|40.7491|           -95.038|    7297|          IT trainer|1990-07-13|d71c95ab6b7356dd7...|1325376383|40.275890999999994|        -96.011548|       0|\n",
            "| 11|  2019-01-01 00:06:53|    377234009633447|fraud_Kerluke-Abs...| shopping_net|  7.77|    Theresa|Blackwell|     F|43576 Kristina Is...| Shenandoah Junction|   WV|25442|39.3716|          -77.8229|    1925|   Systems developer|1966-02-14|3c74776e558f1499a...|1325376413|         40.103866|        -78.624459|       0|\n",
            "| 12|  2019-01-01 00:06:56|    180042946491150|   fraud_Lockman Ltd|  grocery_pos| 71.22|    Charles|   Robles|     M|    3337 Lisa Divide|    Saint Petersburg|   FL|33710|27.7898|          -82.7243|  341043|      Engineer, land|1989-02-28|c1d9a7ddb1e34639f...|1325376416|         27.630593|        -82.308891|       0|\n",
            "| 13|  2019-01-01 00:07:27|   5559857416065248|     fraud_Kiehn Inc|  grocery_pos| 96.29|       Jack|     Hill|     M|5916 Susan Bridge...|             Grenada|   CA|96038|41.6125|         -122.5258|     589|     Systems analyst|1945-12-21|413636e759663f264...|1325376447|          41.65752|       -122.230347|       0|\n",
            "| 14|  2019-01-01 00:09:03|   3514865930894695|   fraud_Beier-Hyatt| shopping_pos|  7.77|Christopher|Castaneda|     M|1632 Cohen Drive ...|High Rolls Mounta...|   NM|88325|32.9396|         -105.8189|     899|     Naval architect|1967-08-30|8a6293af5ed278dea...|1325376543|         32.863258|       -106.520205|       0|\n",
            "| 15|  2019-01-01 00:09:20|   6011999606625827|fraud_Schmidt and...| shopping_net|  3.26|     Ronald|   Carson|     M|     870 Rocha Drive|     Harrington Park|   NJ| 7640|40.9918|            -73.98|    4664|Radiographer, dia...|1965-06-30|baae0b096835c9758...|1325376560|         41.831174|        -74.335559|       0|\n",
            "| 16|  2019-01-01 00:10:49|   6011860238257910|fraud_Lebsack and...|     misc_net| 327.0|       Lisa|   Mendez|     F|44259 Beth Statio...|              Lahoma|   OK|73754| 36.385|          -98.0727|    1078|Programme researc...|1952-07-06|991c04803b4d4eeab...|1325376649|36.384091999999995|        -99.048472|       0|\n",
            "| 17|  2019-01-01 00:10:58|   3565423334076143|  fraud_Mayert Group| shopping_pos|341.67|     Nathan|   Thomas|     M|4923 Campbell Pin...|            Carlisle|   IN|47838|38.9763|          -87.3667|    4081|     Energy engineer|1938-03-15|f12cf52be2175703d...|1325376658|38.674490999999996|        -88.305767|       0|\n",
            "| 18|  2019-01-01 00:11:14|   2348245054386329|fraud_Konopelski,...|  food_dining| 63.07|     Justin|      Gay|     M|268 Hayes Rue Sui...|         Harborcreek|   PA|16421|42.1767|          -79.9416|    2518|     Event organiser|1946-02-02|8500f3d459047eac8...|1325376674|         41.430274|        -79.492553|       0|\n",
            "| 19|  2019-01-01 00:12:34|4956828990005111019|fraud_Schultz, Si...|  grocery_pos| 44.71|    Kenneth| Robinson|     M|  269 Sanchez Rapids|           Elizabeth|   NJ| 7208|40.6747|          -74.2239|  124967|Operational resea...|1980-12-21|09eff9c806365e2a6...|1325376754|         40.079588|-74.84808699999999|       0|\n",
            "+---+---------------------+-------------------+--------------------+-------------+------+-----------+---------+------+--------------------+--------------------+-----+-----+-------+------------------+--------+--------------------+----------+--------------------+----------+------------------+------------------+--------+\n",
            "only showing top 20 rows\n",
            "\n"
          ]
        }
      ],
      "source": [
        "#wczytanie danych\n",
        "spark.sparkContext.addFile('/content/drive/MyDrive/Rozproszone przetwarzanie danych/fraudTrain.csv')\n",
        "\n",
        "fraud = spark.read.csv(\"file:///\"+SparkFiles.get(\"fraudTrain.csv\"), header = True, inferSchema = True)\n",
        "fraud.show()    #oglądam jakie mam w ogóle dane\n"
      ]
    },
    {
      "cell_type": "code",
      "execution_count": 8,
      "metadata": {
        "colab": {
          "base_uri": "https://localhost:8080/"
        },
        "id": "LgprEZAyslrW",
        "outputId": "33ba46f6-c9e0-476c-a013-0f79bb1bde77"
      },
      "outputs": [
        {
          "output_type": "stream",
          "name": "stdout",
          "text": [
            "+-------+--------------------+------------------+------------------+------------------+------------------+-----------------+--------------------+--------------------+------------------+------------------+--------------------+\n",
            "|summary|              cc_num|               amt|               zip|               lat|              long|         city_pop|           trans_num|           unix_time|         merch_lat|        merch_long|            is_fraud|\n",
            "+-------+--------------------+------------------+------------------+------------------+------------------+-----------------+--------------------+--------------------+------------------+------------------+--------------------+\n",
            "|  count|             1296675|           1296675|           1296675|           1296675|           1296675|          1296675|             1296675|             1296675|           1296675|           1296675|             1296675|\n",
            "|   mean|4.171920420797164...| 70.35103545607072| 48800.67109722945|38.537621614892025|-90.22633537861584|88824.44056297839|            Infinity|1.3492436367261226E9| 38.53733804469868| -90.2264647989727|0.005788651743883394|\n",
            "| stddev|1.308806447000237...|160.31603857152723|26893.222476486044| 5.075808438803933|  13.7590769464863|301956.3606887522|                 NaN|1.2841278423351506E7| 5.109788369679173|13.771090564792438| 0.07586268973125167|\n",
            "|    min|         60416207185|               1.0|              1257|           20.0271|         -165.6723|               23|00000ecad06b03d3a...|          1325376018|         19.027785|       -166.671242|                   0|\n",
            "|    25%|     180042946491150|              9.65|             26237|           34.6689|-96.79799999999999|              743|7.183344251117977E31|          1338749215|         34.732399|        -96.899058|                   0|\n",
            "|    50%|    3521417320836166|             47.51|             48174|           39.3543|          -87.4769|             2456|7.183344251117977E31|          1349248642|         39.365573|        -87.438771|                   0|\n",
            "|    75%|    4642255475285942|             83.13|             72042|           41.9404|           -80.158|            20328|            Infinity|          1359379610|41.957252000000004|        -80.237288|                   0|\n",
            "|    max| 4992346398065154184|           28948.9|             99783|           66.6933|          -67.9503|          2906700|ffffef9d89e7d02d8...|          1371816817|         67.510267|        -66.950902|                   1|\n",
            "+-------+--------------------+------------------+------------------+------------------+------------------+-----------------+--------------------+--------------------+------------------+------------------+--------------------+\n",
            "\n"
          ]
        }
      ],
      "source": [
        "# Wykonaj podstawowe statystyki opisowe (min, max, avg) dla przykładowej ramki danych dla wszystkich pól numerycznych\n",
        "\n",
        "# kolumny numeryczne:\n",
        "#'cc_num','amt', 'zip','lat','long', 'city_pop', 'trans_num','unix_time','merch_lat','merch_long','is_fraud'\n",
        "\n",
        "#Statystyki dla wszystkich kolumn numerycznych:\n",
        "fraud.select('cc_num','amt', 'zip','lat','long', 'city_pop', 'trans_num','unix_time','merch_lat','merch_long','is_fraud').summary().show()\n"
      ]
    },
    {
      "cell_type": "code",
      "execution_count": 9,
      "metadata": {
        "colab": {
          "base_uri": "https://localhost:8080/"
        },
        "id": "UxbSLw4RrPL1",
        "outputId": "7c68a4f2-0034-474a-9c9f-a52eaf01cfe5"
      },
      "outputs": [
        {
          "output_type": "stream",
          "name": "stdout",
          "text": [
            "+------+-----------------+--------------------------+\n",
            "|gender|liczba transakcji|średnia wartość transakcji|\n",
            "+------+-----------------+--------------------------+\n",
            "|     F|           709863|         70.20032433018802|\n",
            "|     M|           586812|         70.53334981220459|\n",
            "+------+-----------------+--------------------------+\n",
            "\n"
          ]
        }
      ],
      "source": [
        "# Czy kobiety czy mężczyźni wykonują więcej transakcji i która z płci ma większą średnią wartość transakcji\n",
        "\n",
        "fraud.groupBy('gender').agg(\n",
        "    sf.count('gender').alias('liczba transakcji'),\n",
        "    sf.mean('amt').alias('średnia wartość transakcji')\n",
        ").show()\n",
        "\n",
        "#Odpowiedź: Kobiety wykonują więcej transakcji, średnia wartość transakcji jest podobna (nieco wyższa u mężczyzn)\n"
      ]
    },
    {
      "cell_type": "code",
      "execution_count": 10,
      "metadata": {
        "colab": {
          "base_uri": "https://localhost:8080/"
        },
        "id": "tfuAtK0_ui1k",
        "outputId": "034402ed-9a2d-4716-d1f1-6a99773db4ee"
      },
      "outputs": [
        {
          "output_type": "stream",
          "name": "stdout",
          "text": [
            "+--------------+-----------------+------------------+\n",
            "|      category|liczba transakcji|średnia transakcji|\n",
            "+--------------+-----------------+------------------+\n",
            "|        travel|            40507|111.50471967808039|\n",
            "|      misc_net|            63287| 80.86509488520576|\n",
            "|   grocery_pos|           123638|116.96098594283274|\n",
            "|     kids_pets|           113035| 57.53687052682819|\n",
            "|  shopping_net|            97543| 88.42407635606853|\n",
            "|   grocery_net|            45452| 53.67008448473113|\n",
            "|   food_dining|            91461| 51.08690523829847|\n",
            "| gas_transport|           131659| 63.43457181051072|\n",
            "| personal_care|            90758|47.967678111020604|\n",
            "|health_fitness|            85879| 54.18214022054315|\n",
            "| entertainment|            94014| 64.21042142659638|\n",
            "|          home|           123115|58.270138569629985|\n",
            "|      misc_pos|            79655|  62.8909986818154|\n",
            "|  shopping_pos|           116672| 79.77915532432803|\n",
            "+--------------+-----------------+------------------+\n",
            "\n"
          ]
        }
      ],
      "source": [
        "# Sprawdź średnie i liczbę transakcji w rozbiciu na kategorie\n",
        "\n",
        "fraud.groupBy('category').agg(\n",
        "    sf.count('category').alias('liczba transakcji'),\n",
        "    sf.mean('amt').alias('średnia transakcji')\n",
        ").show()\n"
      ]
    },
    {
      "cell_type": "code",
      "execution_count": 11,
      "metadata": {
        "colab": {
          "base_uri": "https://localhost:8080/"
        },
        "id": "I0MYhngsvKnM",
        "outputId": "edce36bc-029f-456f-9375-6366d619fa8b"
      },
      "outputs": [
        {
          "output_type": "stream",
          "name": "stdout",
          "text": [
            "+------------+------------+\n",
            "|        city|ilość kobiet|\n",
            "+------------+------------+\n",
            "|     Phoenix|        5075|\n",
            "|    Meridian|        5060|\n",
            "|      Thomas|        4634|\n",
            "|     Houston|        4146|\n",
            "|     Brandon|        4044|\n",
            "|Philadelphia|        3517|\n",
            "|       Uledi|        3123|\n",
            "|     Elberta|        3123|\n",
            "|    Superior|        3119|\n",
            "|     Bradley|        3117|\n",
            "|   Hinesburg|        3112|\n",
            "|    Hinckley|        3110|\n",
            "|     De Witt|        3106|\n",
            "|  Wilmington|        3101|\n",
            "|   Cottekill|        3095|\n",
            "|   Littleton|        3090|\n",
            "| East Canaan|        3090|\n",
            "|      Conway|        3088|\n",
            "|  Centerview|        3087|\n",
            "|       Tulsa|        3086|\n",
            "+------------+------------+\n",
            "only showing top 20 rows\n",
            "\n"
          ]
        }
      ],
      "source": [
        "# Sprawdź w którym mieście mieszka najwięcej kobiet\n",
        "fraud.where(sf.col('gender') == \"F\").groupBy('city').agg(sf.count('gender').alias('ilość kobiet')).orderBy(sf.desc('ilość kobiet')).show()\n",
        "\n",
        "#Odpowiedź: najwięcej kobiet mieszka w Phoenix\n"
      ]
    },
    {
      "cell_type": "code",
      "execution_count": 12,
      "metadata": {
        "colab": {
          "base_uri": "https://localhost:8080/"
        },
        "id": "4d7M13v3Fqb-",
        "outputId": "cf2d4828-23f4-41cc-ff7a-077ef4984c50"
      },
      "outputs": [
        {
          "output_type": "stream",
          "name": "stdout",
          "text": [
            "+-----+--------------+\n",
            "|state|ilość mężczyzn|\n",
            "+-----+--------------+\n",
            "|   CT|          1032|\n",
            "|   HI|          1032|\n",
            "|   AZ|          1061|\n",
            "|   DC|          2050|\n",
            "|   AK|          2120|\n",
            "|   WA|          2458|\n",
            "|   ID|          2541|\n",
            "|   ND|          2605|\n",
            "|   UT|          3010|\n",
            "|   SD|          4644|\n",
            "|   OR|          5154|\n",
            "|   NV|          5599|\n",
            "|   VT|          6126|\n",
            "|   SC|          6703|\n",
            "|   NH|          6720|\n",
            "|   CO|          7206|\n",
            "|   WV|          7696|\n",
            "|   MA|          7744|\n",
            "|   KS|          8164|\n",
            "|   WY|          8171|\n",
            "+-----+--------------+\n",
            "only showing top 20 rows\n",
            "\n"
          ]
        }
      ],
      "source": [
        "# Sprawdź w którym stanie mieszka najmniej mężczyzn\n",
        "\n",
        "fraud.where(sf.col('gender') == \"M\").groupBy('state').agg(sf.count('gender').alias('ilość mężczyzn')).orderBy('ilość mężczyzn').show()\n",
        "\n",
        "# Odpowiedź: najmniej mężczyzn mieska w stanach CT i HI\n"
      ]
    },
    {
      "cell_type": "markdown",
      "metadata": {
        "id": "GBu56xpg1_7U"
      },
      "source": [
        "# Zadanie\n",
        "\n",
        "* Zakładając, że dane są z lat 2019-2020, sprawdź czy jacyś niepełnoletni (<21 lat) wykonywali transakcje. Ile ich było?\n",
        "* Zakładając, że noc to 00:00 – 06:00, ranek 06:00 – 12:00, południe 12:00 – 16:00, popołudnie 16:00 – 21:00, a reszta to noc – sprawdź kiedy najczęściej popełniane były przestępstwa\n",
        "* Jak dużo miesięcy upłynęło pomiędzy pierwszym a ostatnim przestępstwem?"
      ]
    },
    {
      "cell_type": "code",
      "execution_count": 19,
      "metadata": {
        "colab": {
          "base_uri": "https://localhost:8080/"
        },
        "id": "DTZ1z_NLk8xU",
        "outputId": "e9f8ee5b-e66b-4289-fb1a-3e9a74f2ac10"
      },
      "outputs": [
        {
          "output_type": "stream",
          "name": "stdout",
          "text": [
            "liczba osób poniżej 21 roku życia, która robiła transakcje: 50459\n"
          ]
        }
      ],
      "source": [
        "# Zakładając, że dane są z lat 2019-2020, sprawdź czy jacyś niepełnoletni (<21 lat) wykonywali transakcje. Ile ich było?\n",
        "\n",
        "# kolumna 'dob' to data urodzenia\n",
        "# data transakcji: 'trans_date_trans_time\n",
        "\n",
        "# Konwertowanie kolumny \"dob\" na typ daty\n",
        "df2_fraud = fraud.withColumn(\"dob\", sf.col(\"dob\").cast(DateType()))\n",
        "df2_fraud = fraud.withColumn(\"trans_date_trans_time\", sf.col(\"trans_date_trans_time\").cast(DateType()))\n",
        "\n",
        "# Obliczanie wieku na podstawie daty urodzenia\n",
        "df2_fraud = df2_fraud.withColumn(\"age\", ((sf.unix_timestamp(\"trans_date_trans_time\") - sf.unix_timestamp(\"dob\")) / (365 * 24 * 60 * 60)).cast(\"integer\"))\n",
        "\n",
        "count21 = df2_fraud.where(sf.col('age')<21).count()\n",
        "print(\"liczba osób poniżej 21 roku życia, która robiła transakcje:\",count21)\n"
      ]
    },
    {
      "cell_type": "code",
      "execution_count": 20,
      "metadata": {
        "colab": {
          "base_uri": "https://localhost:8080/"
        },
        "id": "sDsJ5ZbJzfWb",
        "outputId": "726c88ae-970f-4c8c-9d1e-56e835992f70"
      },
      "outputs": [
        {
          "output_type": "stream",
          "name": "stdout",
          "text": [
            "+------------+------+\n",
            "|time of date| count|\n",
            "+------------+------+\n",
            "|         noc|454438|\n",
            "|  popołudnie|327829|\n",
            "|    południe|260853|\n",
            "|        rano|253555|\n",
            "+------------+------+\n",
            "\n"
          ]
        }
      ],
      "source": [
        "# Zakładając, że noc to 00:00 – 06:00, ranek 06:00 – 12:00, południe 12:00 – 16:00, popołudnie 16:00 – 21:00, a reszta to noc – sprawdź kiedy najczęściej popełniane były przestępstwa\n",
        "\n",
        "#wyłuskane daty i czasu oraz przypisanie pory dnia do określonego czasu:\n",
        "fraud2 = (\n",
        "fraud\n",
        "    .withColumn('time', sf.date_format('trans_date_trans_time', 'HH:mm:ss'))\n",
        "    .withColumn('date', sf.to_date('trans_date_trans_time'))\n",
        "    .withColumn('time of date', sf.when(sf.col('time').between('00:00:00', '06:00:00'), 'noc')\n",
        "                                .when(sf.col('time').between('06:00:01', '12:00:00'), 'rano')\n",
        "                                .when(sf.col('time').between('12:00:01', '16:00:00'), 'południe')\n",
        "                                .when(sf.col('time').between('16:00:01', '21:00:00'), 'popołudnie')\n",
        "                                .otherwise('noc'))\n",
        ")\n",
        "\n",
        "# pogrupowanie po porach dnia i posortowanie:\n",
        "fraud2.groupBy('time of date').count().orderBy('time of date').show()\n",
        "\n",
        "# Odp. Najwięcej przestępstw było w nocy.\n"
      ]
    },
    {
      "cell_type": "code",
      "execution_count": 21,
      "metadata": {
        "colab": {
          "base_uri": "https://localhost:8080/"
        },
        "id": "3u3XBHtGoOKX",
        "outputId": "db8206f7-10c1-434a-9b50-b6b99ae60fc0"
      },
      "outputs": [
        {
          "output_type": "stream",
          "name": "stdout",
          "text": [
            "+-------------------+-------------------+\n",
            "|           min date|           max date|\n",
            "+-------------------+-------------------+\n",
            "|2019-01-02 01:06:37|2020-06-21 03:59:46|\n",
            "+-------------------+-------------------+\n",
            "\n",
            "+-------------------+-------------------+------------+\n",
            "|           min date|           max date|ile miesiecy|\n",
            "+-------------------+-------------------+------------+\n",
            "|2019-01-02 01:06:37|2020-06-21 03:59:46|       17.62|\n",
            "+-------------------+-------------------+------------+\n",
            "\n"
          ]
        }
      ],
      "source": [
        "# Jak dużo miesięcy upłynęło pomiędzy pierwszym a ostatnim przestępstwem?\n",
        "\n",
        "fraud_min_max_date = fraud.where(sf.col('is_fraud') == 1).agg(\n",
        "    sf.min('trans_date_trans_time').alias('min date'),\n",
        "    sf.max('trans_date_trans_time').alias('max date')\n",
        ")\n",
        "fraud_min_max_date.show()\n",
        "\n",
        "(\n",
        "fraud_min_max_date\n",
        "    .withColumn('ile miesiecy', sf.round(sf.months_between('max date', 'min date'),2))  #https://sparkbyexamples.com/pyspark/pyspark-difference-between-two-dates-days-months-years/\n",
        ").show()\n"
      ]
    },
    {
      "cell_type": "markdown",
      "metadata": {
        "id": "y7y4DMw4OpCE"
      },
      "source": [
        "# Zadanie\n",
        "Korzystając z pakietu Faker: https://faker.readthedocs.io/en/master/\n",
        "wygeneruj 10000 plików JSON zawierających:\n",
        "* Imię\n",
        "* Nazwisko\n",
        "* Datę Urodzenia\n",
        "* Nr telefonu\n",
        "* Miasto\n",
        "\n",
        "Odczytaj te pliki za pomocą Sparka i sprawdź:\n",
        "* Średnią długość imienia\n",
        "* Miesiąc w którym urodziło się najwięcej osób"
      ]
    },
    {
      "cell_type": "code",
      "execution_count": null,
      "metadata": {
        "colab": {
          "base_uri": "https://localhost:8080/"
        },
        "id": "5BQy1TWiQEKn",
        "outputId": "a5235580-f4aa-4ff1-b5d3-fc024173aba1"
      },
      "outputs": [
        {
          "output_type": "stream",
          "name": "stdout",
          "text": [
            "['East Tonyafurt', 'South Elizabethton', 'Amandaborough', 'Wendyburgh', 'South Christopherstad', 'Boydberg', 'Mcknightshire', 'Collinston', 'Lake Sarah', 'Tracyfort', 'East Jamesmouth', 'Krististad', 'Jonesshire', 'Woodardport', 'New Carol', 'South Jessica', 'Nelsonville', 'Josephhaven', 'Mauricemouth', 'East Rickeyborough']\n"
          ]
        }
      ],
      "source": [
        "# Generowanie plików z fakera\n",
        "\n",
        "fake = Faker()\n",
        "\n",
        "target_directory = \"/content/drive/MyDrive/Rozproszone przetwarzanie danych/pliki_json\"\n",
        "os.makedirs(target_directory, exist_ok=True)\n",
        "\n",
        "miasta = []\n",
        "for i in range(20):\n",
        "    miasto = fake.city()\n",
        "    miasta.append(miasto)\n",
        "print(miasta)\n",
        "\n",
        "for i in range(10000):\n",
        "    imie = fake.first_name()\n",
        "    nazwisko = fake.last_name()\n",
        "    data_urodzenia = fake.date_of_birth()\n",
        "    nr_telefonu = fake.msisdn() #https://faker.readthedocs.io/en/master/providers/faker.providers.phone_number.html?highlight=cell_phone\n",
        "    miasto = random.choice(miasta)\n",
        "\n",
        "\n",
        "    # Tworzenie słownika z danymi\n",
        "    data = {\n",
        "        'imie': imie,\n",
        "        \"nazwisko\": nazwisko,\n",
        "        \"data_urodzenia\": str(data_urodzenia),  # Konwersja daty na format tekstowy\n",
        "        \"nr_telefonu\": str(nr_telefonu),  # Konwersja daty na format tekstowy\n",
        "        \"miasto\": miasto\n",
        "    }\n",
        "\n",
        "    # Tworzenie nazwy pliku\n",
        "    filename = f\"data_{i + 1}.json\"\n",
        "\n",
        "    # Zapisywanie danych do pliku JSON\n",
        "    with open(filename, \"w\") as json_file:\n",
        "        json.dump(data, json_file)\n",
        "\n",
        "    # Przenoszenie plików do odpowiedniego folderu na dysku\n",
        "    target_path = os.path.join(target_directory, filename)\n",
        "    try:\n",
        "        shutil.move(filename, target_path)\n",
        "    except Exception as e:\n",
        "        print(f\"Przenoszenie pliku {filename} nie powiodło się: {e}\")\n"
      ]
    },
    {
      "cell_type": "code",
      "execution_count": 26,
      "metadata": {
        "colab": {
          "base_uri": "https://localhost:8080/"
        },
        "id": "2yKXVcwCE8qn",
        "outputId": "a2efd55d-8214-4de8-86a4-9d4a03305de7"
      },
      "outputs": [
        {
          "output_type": "stream",
          "name": "stdout",
          "text": [
            "-RECORD 0------------------------------\n",
            " data_urodzenia | 1911-04-13           \n",
            " imie           | Kristopher           \n",
            " miasto         | South Christopher... \n",
            " nazwisko       | Williamson           \n",
            " nr_telefonu    | 8957492539752        \n",
            "-RECORD 1------------------------------\n",
            " data_urodzenia | 2017-10-03           \n",
            " imie           | Alexandra            \n",
            " miasto         | South Christopher... \n",
            " nazwisko       | Richardson           \n",
            " nr_telefonu    | 9310951034181        \n",
            "-RECORD 2------------------------------\n",
            " data_urodzenia | 1988-02-18           \n",
            " imie           | Christopher          \n",
            " miasto         | South Christopher... \n",
            " nazwisko       | Alvarado             \n",
            " nr_telefonu    | 4785595762318        \n",
            "-RECORD 3------------------------------\n",
            " data_urodzenia | 2005-07-01           \n",
            " imie           | Clayton              \n",
            " miasto         | South Christopher... \n",
            " nazwisko       | Christensen          \n",
            " nr_telefonu    | 7509452430387        \n",
            "-RECORD 4------------------------------\n",
            " data_urodzenia | 1988-05-09           \n",
            " imie           | Jacqueline           \n",
            " miasto         | South Christopher... \n",
            " nazwisko       | Harrison             \n",
            " nr_telefonu    | 0399835376721        \n",
            "-RECORD 5------------------------------\n",
            " data_urodzenia | 1923-08-17           \n",
            " imie           | Christine            \n",
            " miasto         | South Christopher... \n",
            " nazwisko       | Daugherty            \n",
            " nr_telefonu    | 5300018469709        \n",
            "-RECORD 6------------------------------\n",
            " data_urodzenia | 1955-01-19           \n",
            " imie           | Jennifer             \n",
            " miasto         | South Christopher... \n",
            " nazwisko       | Hernandez            \n",
            " nr_telefonu    | 1791021700865        \n",
            "-RECORD 7------------------------------\n",
            " data_urodzenia | 1990-09-30           \n",
            " imie           | Christopher          \n",
            " miasto         | South Christopher... \n",
            " nazwisko       | Benton               \n",
            " nr_telefonu    | 9256467952603        \n",
            "-RECORD 8------------------------------\n",
            " data_urodzenia | 1985-08-29           \n",
            " imie           | Alexandra            \n",
            " miasto         | South Christopher... \n",
            " nazwisko       | Harrison             \n",
            " nr_telefonu    | 4972588566750        \n",
            "-RECORD 9------------------------------\n",
            " data_urodzenia | 1976-03-15           \n",
            " imie           | Cassandra            \n",
            " miasto         | South Christopher... \n",
            " nazwisko       | Gonzalez             \n",
            " nr_telefonu    | 0401135477466        \n",
            "-RECORD 10-----------------------------\n",
            " data_urodzenia | 1915-05-23           \n",
            " imie           | Alexandra            \n",
            " miasto         | South Christopher... \n",
            " nazwisko       | Andersen             \n",
            " nr_telefonu    | 4673936801722        \n",
            "-RECORD 11-----------------------------\n",
            " data_urodzenia | 1952-03-05           \n",
            " imie           | Christopher          \n",
            " miasto         | South Christopher... \n",
            " nazwisko       | Baker                \n",
            " nr_telefonu    | 7227784390731        \n",
            "-RECORD 12-----------------------------\n",
            " data_urodzenia | 2013-05-03           \n",
            " imie           | Stephanie            \n",
            " miasto         | South Elizabethton   \n",
            " nazwisko       | Villarreal           \n",
            " nr_telefonu    | 7760736718649        \n",
            "-RECORD 13-----------------------------\n",
            " data_urodzenia | 1937-01-21           \n",
            " imie           | Natasha              \n",
            " miasto         | South Christopher... \n",
            " nazwisko       | Rodriguez            \n",
            " nr_telefonu    | 7188989865885        \n",
            "-RECORD 14-----------------------------\n",
            " data_urodzenia | 2014-05-28           \n",
            " imie           | Nicholas             \n",
            " miasto         | South Christopher... \n",
            " nazwisko       | Anderson             \n",
            " nr_telefonu    | 3248504098095        \n",
            "-RECORD 15-----------------------------\n",
            " data_urodzenia | 1916-01-09           \n",
            " imie           | Michelle             \n",
            " miasto         | South Christopher... \n",
            " nazwisko       | Mckenzie             \n",
            " nr_telefonu    | 2473549041486        \n",
            "-RECORD 16-----------------------------\n",
            " data_urodzenia | 1941-04-07           \n",
            " imie           | Christopher          \n",
            " miasto         | South Christopher... \n",
            " nazwisko       | White                \n",
            " nr_telefonu    | 5681973187428        \n",
            "-RECORD 17-----------------------------\n",
            " data_urodzenia | 1951-07-26           \n",
            " imie           | Christopher          \n",
            " miasto         | South Christopher... \n",
            " nazwisko       | Oneal                \n",
            " nr_telefonu    | 4099246660239        \n",
            "-RECORD 18-----------------------------\n",
            " data_urodzenia | 1954-03-10           \n",
            " imie           | David                \n",
            " miasto         | South Christopher... \n",
            " nazwisko       | Christensen          \n",
            " nr_telefonu    | 1486278727926        \n",
            "-RECORD 19-----------------------------\n",
            " data_urodzenia | 1972-03-23           \n",
            " imie           | Darius               \n",
            " miasto         | South Christopher... \n",
            " nazwisko       | Harrington           \n",
            " nr_telefonu    | 3882761376866        \n",
            "only showing top 20 rows\n",
            "\n"
          ]
        }
      ],
      "source": [
        "#Odczytanie wygenerowanych z fakera plików za pomocą Sparka\n",
        "\n",
        "files = spark.read.json('/content/drive/MyDrive/Rozproszone przetwarzanie danych/pliki_json/data*.json')\n",
        "files.show(vertical=True)\n"
      ]
    },
    {
      "cell_type": "code",
      "execution_count": 27,
      "metadata": {
        "id": "7acohmaRJUyO",
        "colab": {
          "base_uri": "https://localhost:8080/"
        },
        "outputId": "2a1d36e7-12bc-40e1-d80d-6b4f1e904469"
      },
      "outputs": [
        {
          "output_type": "stream",
          "name": "stdout",
          "text": [
            "+-----------------------+\n",
            "|srednia dlugosc imienia|\n",
            "+-----------------------+\n",
            "|                 6.0216|\n",
            "+-----------------------+\n",
            "\n"
          ]
        }
      ],
      "source": [
        "#Średnia długość imienia\n",
        "\n",
        "# obliczenie długości imienia\n",
        "df_with_length_name = (\n",
        "files\n",
        "    .withColumn('dlugosc imienia', sf.length(sf.col('imie')))\n",
        ")\n",
        "\n",
        "# średnia długość imienia:\n",
        "df_with_length_name.agg(\n",
        "    sf.mean('dlugosc imienia').alias('srednia dlugosc imienia')\n",
        ").show()\n"
      ]
    },
    {
      "cell_type": "code",
      "source": [
        "# Miesiąc w którym urodziło się najwięcej osób\n",
        "\n",
        "df_month = files.withColumn('miesiac',sf.month('data_urodzenia'))\n",
        "\n",
        "# liczba osób urodzona w każdym z miesiecy\n",
        "df_count = df_month.groupBy('miesiac').count()\n",
        "\n",
        "print('miesiąc, w którym urodziło się najwięcej osób:', df_count.orderBy(sf.desc('count')).first()[0])\n"
      ],
      "metadata": {
        "colab": {
          "base_uri": "https://localhost:8080/"
        },
        "id": "oAgX3AigN9wJ",
        "outputId": "a9f35101-d32e-4a77-b2c0-f38e88eb3941"
      },
      "execution_count": 28,
      "outputs": [
        {
          "output_type": "stream",
          "name": "stdout",
          "text": [
            "miesiąc, w którym urodziło się najwięcej osób: 10\n"
          ]
        }
      ]
    },
    {
      "cell_type": "markdown",
      "source": [
        "# Zadanie: \n",
        "\n",
        "Weź dane z ćwiczenia o Fakerze.\n",
        "* Zapisz je do plików csv partycjonowanych po mieście.\n",
        "* Weź jedno z wybranych miast i zapisz dane o datach urodzenia do pythonowej listy. Posortuj tę listę i wypisz ją na ekran"
      ],
      "metadata": {
        "id": "GfJh40kThbtu"
      }
    },
    {
      "cell_type": "code",
      "source": [
        "#Zapisz je do plików csv partycjonowanych po mieście.\n",
        "miasto = spark.read.json(\"/content/drive/MyDrive/Rozproszone przetwarzanie danych/pliki_json\")\n",
        "\n",
        "miasto.write.mode('overwrite').partitionBy(\"miasto\").csv(\"/content/drive/MyDrive/Rozproszone przetwarzanie danych/miasta_part\", header = True)"
      ],
      "metadata": {
        "id": "l5kLfX01hcVw"
      },
      "execution_count": null,
      "outputs": []
    },
    {
      "cell_type": "code",
      "source": [
        "# Weź jedno z wybranych miast i zapisz dane o datach urodzenia do pythonowej listy. Posortuj tę listę i wypisz ją na ekran.\n",
        "\n",
        "cities = spark.read.csv(\"/content/drive/MyDrive/Rozproszone przetwarzanie danych/miasta_part/\", header = True).where(sf.col(\"miasto\") ==\"Boydberg\")\n",
        "cities_local = cities.select('data_urodzenia').collect()\n",
        "dates = [row.data_urodzenia for row in cities_local]\n",
        "dates.sort()\n",
        "\n",
        "print(dates)\n"
      ],
      "metadata": {
        "colab": {
          "base_uri": "https://localhost:8080/"
        },
        "id": "hUy6JOidhgng",
        "outputId": "d194831b-9898-4100-87f4-24a81a064c12"
      },
      "execution_count": 29,
      "outputs": [
        {
          "output_type": "stream",
          "name": "stdout",
          "text": [
            "['1908-02-14', '1908-03-01', '1908-08-27', '1908-11-13', '1909-01-19', '1909-02-23', '1909-03-01', '1909-04-14', '1909-07-10', '1909-09-01', '1910-04-16', '1910-05-08', '1910-05-28', '1910-09-20', '1910-11-17', '1910-12-21', '1911-03-31', '1911-05-04', '1911-05-07', '1911-06-28', '1912-04-01', '1912-05-14', '1912-07-21', '1912-08-30', '1913-06-14', '1914-02-11', '1914-08-20', '1915-02-19', '1915-04-04', '1915-06-12', '1915-08-25', '1915-10-03', '1915-10-10', '1915-10-19', '1916-01-04', '1916-03-04', '1916-09-30', '1916-11-13', '1917-04-22', '1918-01-16', '1918-02-12', '1918-03-20', '1918-05-15', '1918-10-10', '1919-05-30', '1919-06-14', '1919-08-01', '1919-11-12', '1919-12-05', '1920-06-23', '1920-09-19', '1920-10-29', '1920-12-07', '1921-02-15', '1921-03-03', '1921-06-13', '1921-09-08', '1921-12-28', '1922-01-15', '1922-02-07', '1922-06-05', '1922-08-02', '1922-11-17', '1923-01-26', '1923-02-13', '1923-03-02', '1923-06-18', '1923-08-03', '1923-09-17', '1923-11-16', '1924-01-18', '1924-02-04', '1924-03-02', '1924-08-04', '1924-09-06', '1924-12-19', '1925-07-08', '1925-09-24', '1925-12-12', '1926-02-11', '1926-02-26', '1926-10-29', '1927-01-10', '1927-03-02', '1928-03-25', '1928-05-23', '1928-07-29', '1928-08-11', '1929-02-25', '1929-03-11', '1929-10-29', '1930-02-10', '1930-02-22', '1930-05-01', '1930-08-14', '1930-10-10', '1930-10-24', '1930-12-09', '1931-01-12', '1931-04-07', '1931-06-30', '1931-07-21', '1931-09-05', '1931-11-13', '1932-06-25', '1932-08-29', '1932-09-27', '1933-04-16', '1933-05-12', '1933-05-24', '1934-07-13', '1935-04-08', '1935-06-01', '1935-08-28', '1935-11-16', '1935-11-20', '1936-02-27', '1936-05-20', '1936-06-20', '1936-08-10', '1936-08-17', '1937-03-20', '1937-04-22', '1937-05-03', '1937-09-10', '1938-01-13', '1938-10-29', '1938-12-03', '1938-12-06', '1939-04-28', '1939-05-08', '1939-09-07', '1939-11-15', '1940-01-19', '1940-03-15', '1940-07-21', '1940-08-15', '1940-11-08', '1940-11-16', '1940-12-16', '1940-12-23', '1941-05-13', '1941-08-28', '1941-11-16', '1941-11-27', '1941-12-17', '1942-06-25', '1943-01-11', '1943-01-21', '1943-01-28', '1943-03-14', '1943-05-04', '1943-06-14', '1943-06-23', '1943-07-26', '1943-09-15', '1943-10-03', '1943-10-19', '1944-03-03', '1944-05-22', '1945-06-10', '1945-11-16', '1946-04-26', '1946-05-17', '1946-08-03', '1946-11-01', '1946-11-29', '1947-01-08', '1947-07-23', '1948-02-16', '1948-02-25', '1948-05-19', '1948-09-19', '1948-09-23', '1948-10-24', '1949-01-09', '1949-02-08', '1949-06-19', '1949-07-08', '1949-08-22', '1949-12-31', '1950-08-03', '1950-08-22', '1950-09-08', '1951-01-10', '1951-01-12', '1951-08-12', '1951-09-06', '1951-12-17', '1952-05-03', '1952-10-23', '1952-10-26', '1952-12-11', '1953-01-07', '1953-03-22', '1953-08-08', '1953-09-28', '1954-05-25', '1954-07-05', '1954-08-27', '1954-09-15', '1955-02-24', '1955-04-15', '1955-05-20', '1955-08-02', '1955-10-07', '1955-11-25', '1956-04-13', '1956-05-17', '1956-07-02', '1956-07-05', '1957-01-03', '1957-01-24', '1957-02-11', '1957-05-10', '1957-09-25', '1957-10-04', '1958-07-28', '1958-10-19', '1958-10-29', '1958-12-02', '1958-12-16', '1959-08-10', '1959-09-04', '1959-09-28', '1959-10-16', '1960-02-15', '1960-05-26', '1960-10-07', '1960-11-23', '1961-01-16', '1961-02-22', '1961-04-23', '1961-05-06', '1961-07-06', '1961-12-09', '1962-11-21', '1963-03-06', '1963-03-20', '1963-09-06', '1963-11-22', '1963-12-10', '1964-02-16', '1964-03-24', '1964-08-24', '1964-12-27', '1965-05-16', '1965-06-25', '1965-08-15', '1965-08-22', '1965-11-11', '1966-05-05', '1966-12-05', '1967-03-08', '1967-07-09', '1967-11-07', '1968-01-13', '1968-07-30', '1968-09-07', '1968-10-21', '1968-12-24', '1969-02-28', '1969-03-18', '1969-08-20', '1970-04-01', '1970-07-03', '1971-03-07', '1971-09-11', '1972-02-02', '1972-02-16', '1972-06-11', '1972-06-24', '1972-10-26', '1973-03-25', '1973-06-12', '1973-08-23', '1973-10-12', '1973-12-12', '1973-12-29', '1974-06-24', '1974-07-23', '1974-08-26', '1974-10-24', '1975-03-02', '1975-07-06', '1975-09-30', '1975-11-07', '1975-11-25', '1976-02-25', '1976-03-16', '1976-04-03', '1976-04-10', '1977-02-02', '1977-05-05', '1977-07-10', '1977-08-30', '1977-09-11', '1978-01-08', '1978-03-07', '1978-06-20', '1978-09-15', '1979-02-25', '1979-03-05', '1979-03-14', '1979-06-07', '1979-07-23', '1979-08-21', '1979-10-08', '1979-10-08', '1980-01-25', '1980-04-03', '1980-05-06', '1980-05-30', '1980-07-29', '1980-08-18', '1980-10-28', '1980-12-03', '1981-03-12', '1981-08-23', '1981-11-14', '1982-02-01', '1982-02-08', '1982-11-17', '1983-01-13', '1984-03-11', '1984-05-03', '1984-05-17', '1984-12-07', '1985-01-09', '1985-01-12', '1985-04-26', '1985-06-12', '1985-07-17', '1985-08-13', '1985-09-24', '1986-08-29', '1986-09-28', '1986-11-08', '1986-12-25', '1987-02-08', '1987-05-23', '1987-08-26', '1987-10-27', '1988-01-25', '1988-01-27', '1988-11-15', '1988-11-17', '1989-01-24', '1989-03-18', '1989-04-23', '1989-07-16', '1989-07-17', '1989-08-19', '1989-10-07', '1989-10-27', '1989-10-30', '1989-11-24', '1990-01-06', '1990-02-07', '1990-04-11', '1990-12-16', '1991-04-29', '1991-11-23', '1992-02-13', '1992-05-22', '1992-12-10', '1993-04-06', '1993-06-05', '1993-09-27', '1993-10-02', '1994-03-29', '1994-07-28', '1994-07-31', '1994-09-12', '1994-09-26', '1994-10-08', '1994-10-13', '1994-12-17', '1995-02-04', '1995-07-13', '1995-08-09', '1996-03-04', '1996-07-23', '1996-10-11', '1996-11-05', '1997-09-30', '1997-10-29', '1998-01-25', '1998-08-25', '1998-10-25', '1999-04-14', '2000-09-15', '2000-09-23', '2000-11-12', '2000-11-22', '2001-02-09', '2001-07-15', '2001-10-11', '2002-09-28', '2002-11-20', '2003-06-01', '2003-08-03', '2004-02-18', '2004-02-21', '2004-03-04', '2004-06-08', '2004-06-09', '2004-06-09', '2004-10-28', '2005-02-02', '2005-05-22', '2005-07-07', '2005-12-03', '2005-12-14', '2006-07-03', '2006-07-26', '2006-10-12', '2006-10-14', '2006-10-16', '2006-11-05', '2006-11-10', '2006-11-21', '2007-06-01', '2007-08-16', '2007-12-14', '2007-12-21', '2008-08-02', '2008-10-23', '2008-11-19', '2009-03-08', '2009-06-11', '2009-07-21', '2009-11-08', '2009-12-05', '2010-04-09', '2010-12-03', '2011-03-26', '2011-05-04', '2011-10-13', '2011-10-27', '2011-11-21', '2012-06-15', '2012-11-13', '2013-01-16', '2014-05-03', '2014-11-19', '2015-02-13', '2015-02-16', '2015-10-05', '2015-10-31', '2016-10-15', '2017-04-28', '2017-06-01', '2018-02-02', '2018-05-09', '2018-10-28', '2018-12-24', '2019-02-23', '2019-03-17', '2019-03-28', '2019-04-06', '2019-04-12', '2019-06-27', '2019-10-11', '2020-04-23', '2020-07-07', '2021-03-21', '2021-03-22', '2021-09-01', '2021-09-29', '2021-11-01', '2021-12-25', '2022-01-22', '2022-02-05', '2022-02-19', '2022-03-15', '2022-06-17', '2022-07-17', '2022-08-08', '2022-10-16', '2022-11-16', '2023-04-13']\n"
          ]
        }
      ]
    },
    {
      "cell_type": "markdown",
      "source": [
        "# Zadanie\n",
        "\n",
        "Korzystając z danych o oszustwach płatniczych (fraudTrain) i funkcji okienkowych,\n",
        "odpowiedz na pytania:\n",
        "* Wyznacz średnią, min oraz max wysokości transakcji w każdym stanie w każdym roku\n",
        "* Wypisz trzy największe transakcje będące oszustwem w każdej kategorii"
      ],
      "metadata": {
        "id": "O2QrqFfBhP5d"
      }
    },
    {
      "cell_type": "code",
      "source": [
        "# Wyznacz średnią, min oraz max wysokości transakcji w każdym stanie w każdym roku\n",
        "\n",
        "df2_fraud = fraud.withColumn('year',sf.year(fraud.trans_date_trans_time))\n",
        "\n",
        "windowSpec = Window.partitionBy([\"state\",\"year\"]).orderBy(\"year\")\n",
        "frauds_windowed = (\n",
        "    df2_fraud\n",
        "      .withColumn(\"row_no\", sf.row_number().over(windowSpec))\n",
        "      .withColumn(\"minimum\", sf.min('amt').over(windowSpec))\n",
        "      .withColumn(\"maksimum\", sf.max('amt').over(windowSpec))\n",
        "      .withColumn(\"avg\", sf.avg('amt').over(windowSpec))\n",
        ").select(\"state\", \"year\", \"minimum\",\"maksimum\",\"avg\").where(sf.col(\"row_no\") == 1)\n",
        "frauds_windowed.show()\n"
      ],
      "metadata": {
        "colab": {
          "base_uri": "https://localhost:8080/"
        },
        "id": "DPI-RLqchUYu",
        "outputId": "782b7bb9-cc00-4856-c071-ec9919a4b655"
      },
      "execution_count": 23,
      "outputs": [
        {
          "output_type": "stream",
          "name": "stdout",
          "text": [
            "+-----+----+-------+--------+------------------+\n",
            "|state|year|minimum|maksimum|               avg|\n",
            "+-----+----+-------+--------+------------------+\n",
            "|   AK|2019|    1.0| 3178.51| 70.98928947368414|\n",
            "|   AK|2020|   1.08| 1037.47|61.198883333333406|\n",
            "|   AL|2019|    1.0|10525.07|  65.4799780994419|\n",
            "|   AL|2020|    1.0| 3960.95| 65.37444331123592|\n",
            "|   AR|2019|    1.0|13536.84| 75.90609176641325|\n",
            "|   AR|2020|   1.01| 4902.51| 73.67259067357476|\n",
            "|   AZ|2019|   1.01| 2393.29|  74.6622212101496|\n",
            "|   AZ|2020|   1.02| 2343.71| 76.02799351701773|\n",
            "|   CA|2019|    1.0|11422.83| 73.34715364802607|\n",
            "|   CA|2020|    1.0| 4986.55| 73.61200976098148|\n",
            "|   CO|2019|   1.01| 8217.23| 78.17115193342086|\n",
            "|   CO|2020|   1.01| 3348.47| 79.45144027812253|\n",
            "|   CT|2019|   1.01| 8266.86| 66.49991835994196|\n",
            "|   CT|2020|   1.01| 2107.32|60.171885844748985|\n",
            "|   DC|2019|   1.01| 1550.36| 75.14123041650747|\n",
            "|   DC|2020|    1.0| 5066.96| 80.79403614457831|\n",
            "|   DE|2019|  10.93| 1012.77| 514.4933333333333|\n",
            "|   FL|2019|    1.0| 9995.78| 74.09905050900602|\n",
            "|   FL|2020|    1.0|15305.95| 73.54270398403067|\n",
            "|   GA|2019|    1.0|11960.97| 69.86888517880267|\n",
            "+-----+----+-------+--------+------------------+\n",
            "only showing top 20 rows\n",
            "\n"
          ]
        }
      ]
    },
    {
      "cell_type": "code",
      "source": [
        "# Wypisz trzy największe transakcje będące oszustwem w każdej kategorii\n",
        "\n",
        "only_fraud = df2_fraud.where(sf.col('is_fraud') == 1)\n",
        "\n",
        "windowSpec = Window.partitionBy('category').orderBy('amt')\n",
        "\n",
        "only_fraud.withColumn('row_number', sf.row_number().over(windowSpec)) \\\n",
        "    .where(sf.col('row_number').between(1,3)).select('category','amt','year','row_number') \\\n",
        "    .show()\n",
        "    "
      ],
      "metadata": {
        "colab": {
          "base_uri": "https://localhost:8080/"
        },
        "id": "NyRMBtujhWXg",
        "outputId": "4cb93813-bafa-4d21-d867-c5f0a2e151d2"
      },
      "execution_count": 24,
      "outputs": [
        {
          "output_type": "stream",
          "name": "stdout",
          "text": [
            "+--------------+------+----+----------+\n",
            "|      category|   amt|year|row_number|\n",
            "+--------------+------+----+----------+\n",
            "| entertainment|337.24|2019|         1|\n",
            "| entertainment|356.81|2019|         2|\n",
            "| entertainment|366.76|2020|         3|\n",
            "|   food_dining| 92.79|2019|         1|\n",
            "|   food_dining| 95.94|2019|         2|\n",
            "|   food_dining| 96.57|2019|         3|\n",
            "| gas_transport|  5.93|2019|         1|\n",
            "| gas_transport|  6.02|2019|         2|\n",
            "| gas_transport|  6.23|2019|         3|\n",
            "|   grocery_net|  5.97|2019|         1|\n",
            "|   grocery_net|  6.42|2019|         2|\n",
            "|   grocery_net|  6.48|2020|         3|\n",
            "|   grocery_pos|237.04|2019|         1|\n",
            "|   grocery_pos|238.78|2019|         2|\n",
            "|   grocery_pos|239.07|2019|         3|\n",
            "|health_fitness| 14.13|2020|         1|\n",
            "|health_fitness| 15.18|2019|         2|\n",
            "|health_fitness| 15.38|2019|         3|\n",
            "|          home|177.41|2019|         1|\n",
            "|          home|182.62|2019|         2|\n",
            "+--------------+------+----+----------+\n",
            "only showing top 20 rows\n",
            "\n"
          ]
        }
      ]
    }
  ],
  "metadata": {
    "colab": {
      "provenance": []
    },
    "kernelspec": {
      "display_name": "Python 3",
      "name": "python3"
    },
    "language_info": {
      "name": "python"
    }
  },
  "nbformat": 4,
  "nbformat_minor": 0
}
